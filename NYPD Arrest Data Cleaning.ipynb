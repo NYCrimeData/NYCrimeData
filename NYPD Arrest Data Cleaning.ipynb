{
 "cells": [
  {
   "cell_type": "markdown",
   "metadata": {},
   "source": [
    "Extract, profiling and cleaning data\n",
    "---"
   ]
  },
  {
   "cell_type": "markdown",
   "metadata": {},
   "source": [
    "### Step 1: Extract data"
   ]
  },
  {
   "cell_type": "markdown",
   "metadata": {},
   "source": [
    "1. connect to NYC Open Data with API Key\n",
    "2. pull specific dataset as a pandas dataframe\n",
    "3. Look at shape of extracted data"
   ]
  },
  {
   "cell_type": "code",
   "execution_count": null,
   "metadata": {},
   "outputs": [],
   "source": [
    "pip install sodapy"
   ]
  },
  {
   "cell_type": "code",
   "execution_count": 1,
   "metadata": {},
   "outputs": [],
   "source": [
    "# import libraries\n",
    "import pandas as pd\n",
    "from sodapy import Socrata"
   ]
  },
  {
   "cell_type": "code",
   "execution_count": 7,
   "metadata": {},
   "outputs": [],
   "source": [
    "data_url = 'data.cityofnewyork.us'    # The Host Name for the API endpoint (the https:// part will be added automatically)\n",
    "data_set = 'uip8-fykc'    # The data set at the API endpoint (311 data in this case)\n",
    "app_token = 'Xon2wgccsDGbvkt07HB7X2qEO'   # The App Token code created in the prior steps\n",
    "\n",
    "# full URL to look at data on NYC Open Data\n",
    "# https://data.cityofnewyork.us/Social-Services/311-Service-Requests-from-2010-to-Present/erm2-nwe9"
   ]
  },
  {
   "cell_type": "code",
   "execution_count": 8,
   "metadata": {},
   "outputs": [],
   "source": [
    "# create the client that points to the API endpoint\n",
    "client = Socrata(data_url, app_token, timeout = 200)"
   ]
  },
  {
   "cell_type": "code",
   "execution_count": 9,
   "metadata": {},
   "outputs": [
    {
     "name": "stdout",
     "output_type": "stream",
     "text": [
      "client name is: <sodapy.socrata.Socrata object at 0x7fc22065caf0>\n",
      "client data type is: <class 'sodapy.socrata.Socrata'>\n"
     ]
    }
   ],
   "source": [
    "print(f\"client name is: {client}\")\n",
    "print(f\"client data type is: {type(client)}\")"
   ]
  },
  {
   "cell_type": "code",
   "execution_count": 10,
   "metadata": {},
   "outputs": [],
   "source": [
    "# test the connection to NYC Open Data\n",
    "\n",
    "# retrieve the first 100 rows from the data_set\n",
    "test_results = client.get(data_set, limit = 100)\n",
    "\n",
    "# the test_results are returned as JSON object from the API\n",
    "# the sodapy library converts this JSON object to a python list of dictionaries\n",
    "# now, convert the list of dictionaries to a pandas data frame\n",
    "test_results_df = pd.DataFrame.from_records(test_results)"
   ]
  },
  {
   "cell_type": "code",
   "execution_count": 11,
   "metadata": {
    "scrolled": true
   },
   "outputs": [
    {
     "data": {
      "text/html": [
       "<div>\n",
       "<style scoped>\n",
       "    .dataframe tbody tr th:only-of-type {\n",
       "        vertical-align: middle;\n",
       "    }\n",
       "\n",
       "    .dataframe tbody tr th {\n",
       "        vertical-align: top;\n",
       "    }\n",
       "\n",
       "    .dataframe thead th {\n",
       "        text-align: right;\n",
       "    }\n",
       "</style>\n",
       "<table border=\"1\" class=\"dataframe\">\n",
       "  <thead>\n",
       "    <tr style=\"text-align: right;\">\n",
       "      <th></th>\n",
       "      <th>arrest_key</th>\n",
       "      <th>arrest_date</th>\n",
       "      <th>pd_cd</th>\n",
       "      <th>pd_desc</th>\n",
       "      <th>ky_cd</th>\n",
       "      <th>ofns_desc</th>\n",
       "      <th>law_code</th>\n",
       "      <th>law_cat_cd</th>\n",
       "      <th>arrest_boro</th>\n",
       "      <th>arrest_precinct</th>\n",
       "      <th>...</th>\n",
       "      <th>x_coord_cd</th>\n",
       "      <th>y_coord_cd</th>\n",
       "      <th>latitude</th>\n",
       "      <th>longitude</th>\n",
       "      <th>geocoded_column</th>\n",
       "      <th>:@computed_region_f5dn_yrer</th>\n",
       "      <th>:@computed_region_yeji_bk3q</th>\n",
       "      <th>:@computed_region_92fq_4b7q</th>\n",
       "      <th>:@computed_region_sbqj_enih</th>\n",
       "      <th>:@computed_region_efsh_h5xi</th>\n",
       "    </tr>\n",
       "  </thead>\n",
       "  <tbody>\n",
       "    <tr>\n",
       "      <th>0</th>\n",
       "      <td>238013474</td>\n",
       "      <td>2021-12-18T00:00:00.000</td>\n",
       "      <td>157</td>\n",
       "      <td>RAPE 1</td>\n",
       "      <td>104.0</td>\n",
       "      <td>RAPE</td>\n",
       "      <td>PL 1303501</td>\n",
       "      <td>F</td>\n",
       "      <td>Q</td>\n",
       "      <td>105</td>\n",
       "      <td>...</td>\n",
       "      <td>1057636</td>\n",
       "      <td>203954</td>\n",
       "      <td>40.72618713000002</td>\n",
       "      <td>-73.73523390399998</td>\n",
       "      <td>{'type': 'Point', 'coordinates': [-73.73523390...</td>\n",
       "      <td>63</td>\n",
       "      <td>3</td>\n",
       "      <td>16</td>\n",
       "      <td>63</td>\n",
       "      <td>24337</td>\n",
       "    </tr>\n",
       "    <tr>\n",
       "      <th>1</th>\n",
       "      <td>236943583</td>\n",
       "      <td>2021-11-25T00:00:00.000</td>\n",
       "      <td>263</td>\n",
       "      <td>ARSON 2,3,4</td>\n",
       "      <td>114.0</td>\n",
       "      <td>ARSON</td>\n",
       "      <td>PL 1501500</td>\n",
       "      <td>F</td>\n",
       "      <td>K</td>\n",
       "      <td>69</td>\n",
       "      <td>...</td>\n",
       "      <td>1014340</td>\n",
       "      <td>171320</td>\n",
       "      <td>40.63686750900007</td>\n",
       "      <td>-73.89158591899997</td>\n",
       "      <td>{'type': 'Point', 'coordinates': [-73.89158591...</td>\n",
       "      <td>5</td>\n",
       "      <td>2</td>\n",
       "      <td>8</td>\n",
       "      <td>42</td>\n",
       "      <td>13827</td>\n",
       "    </tr>\n",
       "  </tbody>\n",
       "</table>\n",
       "<p>2 rows × 24 columns</p>\n",
       "</div>"
      ],
      "text/plain": [
       "  arrest_key              arrest_date pd_cd      pd_desc  ky_cd ofns_desc  \\\n",
       "0  238013474  2021-12-18T00:00:00.000   157       RAPE 1  104.0      RAPE   \n",
       "1  236943583  2021-11-25T00:00:00.000   263  ARSON 2,3,4  114.0     ARSON   \n",
       "\n",
       "     law_code law_cat_cd arrest_boro arrest_precinct  ... x_coord_cd  \\\n",
       "0  PL 1303501          F           Q             105  ...    1057636   \n",
       "1  PL 1501500          F           K              69  ...    1014340   \n",
       "\n",
       "  y_coord_cd           latitude           longitude  \\\n",
       "0     203954  40.72618713000002  -73.73523390399998   \n",
       "1     171320  40.63686750900007  -73.89158591899997   \n",
       "\n",
       "                                     geocoded_column  \\\n",
       "0  {'type': 'Point', 'coordinates': [-73.73523390...   \n",
       "1  {'type': 'Point', 'coordinates': [-73.89158591...   \n",
       "\n",
       "  :@computed_region_f5dn_yrer :@computed_region_yeji_bk3q  \\\n",
       "0                          63                           3   \n",
       "1                           5                           2   \n",
       "\n",
       "  :@computed_region_92fq_4b7q :@computed_region_sbqj_enih  \\\n",
       "0                          16                          63   \n",
       "1                           8                          42   \n",
       "\n",
       "  :@computed_region_efsh_h5xi  \n",
       "0                       24337  \n",
       "1                       13827  \n",
       "\n",
       "[2 rows x 24 columns]"
      ]
     },
     "execution_count": 11,
     "metadata": {},
     "output_type": "execute_result"
    }
   ],
   "source": [
    "# examine the test_results_df pandas dataframe\n",
    "test_results_df.head(2)"
   ]
  },
  {
   "cell_type": "code",
   "execution_count": 17,
   "metadata": {},
   "outputs": [
    {
     "name": "stdout",
     "output_type": "stream",
     "text": [
      "total records in uip8-fykc: [{'COUNT': '155507'}]\n"
     ]
    }
   ],
   "source": [
    "# next, get the total number of records in our the entire data set\n",
    "total_record_count = client.get(data_set, select = \"COUNT(*)\")\n",
    "print(f\"total records in {data_set}: {total_record_count}\")"
   ]
  },
  {
   "cell_type": "code",
   "execution_count": 18,
   "metadata": {},
   "outputs": [
    {
     "name": "stdout",
     "output_type": "stream",
     "text": [
      "target records in uip8-fykc: [{'COUNT': '155507'}]\n"
     ]
    }
   ],
   "source": [
    "# next, get the total number of records in our target data set\n",
    "target_record_count = client.get(data_set,\n",
    "                                 where = \"ARREST_DATE > '2000-01-01'\",\n",
    "                                 select= \"COUNT(*)\")\n",
    "print(f\"target records in {data_set}: {target_record_count}\")"
   ]
  },
  {
   "cell_type": "code",
   "execution_count": 19,
   "metadata": {},
   "outputs": [
    {
     "name": "stdout",
     "output_type": "stream",
     "text": [
      "loop to 75.4 seconds\n",
      "<class 'pandas.core.frame.DataFrame'>\n",
      "RangeIndex: 155507 entries, 0 to 155506\n",
      "Data columns (total 19 columns):\n",
      " #   Column             Non-Null Count   Dtype \n",
      "---  ------             --------------   ----- \n",
      " 0   arrest_key         155507 non-null  object\n",
      " 1   arrest_date        155507 non-null  object\n",
      " 2   pd_cd              155478 non-null  object\n",
      " 3   pd_desc            155404 non-null  object\n",
      " 4   ky_cd              155404 non-null  object\n",
      " 5   ofns_desc          155404 non-null  object\n",
      " 6   law_code           155507 non-null  object\n",
      " 7   law_cat_cd         154114 non-null  object\n",
      " 8   arrest_boro        155507 non-null  object\n",
      " 9   arrest_precinct    155507 non-null  object\n",
      " 10  jurisdiction_code  155507 non-null  object\n",
      " 11  age_group          155507 non-null  object\n",
      " 12  perp_sex           155507 non-null  object\n",
      " 13  perp_race          155507 non-null  object\n",
      " 14  x_coord_cd         155507 non-null  object\n",
      " 15  y_coord_cd         155507 non-null  object\n",
      " 16  latitude           155507 non-null  object\n",
      " 17  longitude          155507 non-null  object\n",
      " 18  geocoded_column    155507 non-null  object\n",
      "dtypes: object(19)\n",
      "memory usage: 22.5+ MB\n"
     ]
    }
   ],
   "source": [
    "# loop through data set to pull all rows in chunks (cannot pull all rows at once)\n",
    "\n",
    "# measure time this function takes\n",
    "import time\n",
    "start_time = time.time()\n",
    "\n",
    "start = 0             # start at 0\n",
    "chunk_size = 2000     # fetch 2000 rows at a time\n",
    "results = []          # empty out our result list\n",
    "record_count = target_record_count\n",
    "\n",
    "while True:\n",
    "    \n",
    "    # fetch the set of records starting at 'start'\n",
    "    results.extend(client.get(data_set,\n",
    "                              where = \"ARREST_DATE > '2000-01-01'\",\n",
    "                              offset = start,\n",
    "                              limit = chunk_size))\n",
    "    \n",
    "    # update the starting record number\n",
    "    start = start + chunk_size\n",
    "    \n",
    "    # if we have fetched all of the records (we have reached record_count), exit loop\n",
    "    if (start > int(record_count[0]['COUNT'])):\n",
    "        break\n",
    "        \n",
    "# convert the list into a pandas data frame\n",
    "data = pd.DataFrame.from_records(results)\n",
    "\n",
    "end_time = time.time()\n",
    "print(f\"loop to {round(end_time - start_time, 1)} seconds\")\n",
    "\n",
    "data.info()"
   ]
  },
  {
   "cell_type": "markdown",
   "metadata": {},
   "source": [
    "### Step 2: Data Profiling"
   ]
  },
  {
   "cell_type": "markdown",
   "metadata": {},
   "source": [
    "1. Distinct values per column\n",
    "2. Null values per column\n",
    "3. Summary statistics per numeric column"
   ]
  },
  {
   "cell_type": "code",
   "execution_count": 20,
   "metadata": {},
   "outputs": [
    {
     "data": {
      "text/plain": [
       "Index(['arrest_key', 'arrest_date', 'pd_cd', 'pd_desc', 'ky_cd', 'ofns_desc',\n",
       "       'law_code', 'law_cat_cd', 'arrest_boro', 'arrest_precinct',\n",
       "       'jurisdiction_code', 'age_group', 'perp_sex', 'perp_race', 'x_coord_cd',\n",
       "       'y_coord_cd', 'latitude', 'longitude', 'geocoded_column'],\n",
       "      dtype='object')"
      ]
     },
     "execution_count": 20,
     "metadata": {},
     "output_type": "execute_result"
    }
   ],
   "source": [
    "# what are the columns in our dataframe?\n",
    "data.columns"
   ]
  },
  {
   "cell_type": "code",
   "execution_count": 21,
   "metadata": {},
   "outputs": [],
   "source": [
    "# create a dataframe to gather information about each column\n",
    "data_profiling_df = pd.DataFrame(columns = [\"column_name\",\n",
    "                                            \"column_type\",\n",
    "                                            \"unique_values\",\n",
    "                                            \"duplicate_values\",\n",
    "                                            \"null_values\",\n",
    "                                            \"non_null_values\",\n",
    "                                            \"percent_null\"])"
   ]
  },
  {
   "cell_type": "code",
   "execution_count": 22,
   "metadata": {},
   "outputs": [
    {
     "name": "stdout",
     "output_type": "stream",
     "text": [
      "unable to read column: geocoded_column\n"
     ]
    }
   ],
   "source": [
    "# loop through each column to add rows to the data_profiling_df dataframe\n",
    "for column in data.columns:\n",
    "    \n",
    "    info_dict = {}\n",
    "    \n",
    "    try:\n",
    "        info_dict[\"column_name\"] = column\n",
    "        info_dict[\"column_type\"] = data[column].dtypes\n",
    "        info_dict[\"unique_values\"] = len(data[column].unique())\n",
    "        info_dict[\"duplicate_values\"] = (data[column].shape[0] - data[column].isna().sum()) - len(data[column].unique())\n",
    "        info_dict[\"null_values\"] = data[column].isna().sum()\n",
    "        info_dict[\"non_null_values\"] = data[column].shape[0] - data[column].isna().sum()\n",
    "        info_dict[\"percent_null\"] = round((data[column].isna().sum()) / (data[column].shape[0]), 3)\n",
    "        \n",
    "    except:\n",
    "        print(f\"unable to read column: {column}\")\n",
    "    \n",
    "    data_profiling_df = data_profiling_df.append(info_dict, ignore_index=True)\n",
    "    \n",
    "data_profiling_df.sort_values(by = ['unique_values', \"non_null_values\"],\n",
    "                              ascending = [False, False],\n",
    "                              inplace=True)"
   ]
  },
  {
   "cell_type": "code",
   "execution_count": 23,
   "metadata": {},
   "outputs": [
    {
     "data": {
      "text/plain": [
       "0    {'type': 'Point', 'coordinates': [-73.73523390...\n",
       "1    {'type': 'Point', 'coordinates': [-73.89158591...\n",
       "2    {'type': 'Point', 'coordinates': [-73.96041495...\n",
       "3    {'type': 'Point', 'coordinates': [-73.91036538...\n",
       "4    {'type': 'Point', 'coordinates': [-73.92439508...\n",
       "Name: geocoded_column, dtype: object"
      ]
     },
     "execution_count": 23,
     "metadata": {},
     "output_type": "execute_result"
    }
   ],
   "source": [
    "# lets look at the location column\n",
    "data[\"geocoded_column\"].head()"
   ]
  },
  {
   "cell_type": "code",
   "execution_count": 24,
   "metadata": {},
   "outputs": [
    {
     "data": {
      "text/plain": [
       "dict"
      ]
     },
     "execution_count": 24,
     "metadata": {},
     "output_type": "execute_result"
    }
   ],
   "source": [
    "type(data[\"geocoded_column\"][0])"
   ]
  },
  {
   "cell_type": "code",
   "execution_count": 25,
   "metadata": {},
   "outputs": [],
   "source": [
    "# drop location column\n",
    "data.drop([\"geocoded_column\"], axis = 1, inplace = True)"
   ]
  },
  {
   "cell_type": "code",
   "execution_count": 26,
   "metadata": {},
   "outputs": [
    {
     "data": {
      "text/html": [
       "<div>\n",
       "<style scoped>\n",
       "    .dataframe tbody tr th:only-of-type {\n",
       "        vertical-align: middle;\n",
       "    }\n",
       "\n",
       "    .dataframe tbody tr th {\n",
       "        vertical-align: top;\n",
       "    }\n",
       "\n",
       "    .dataframe thead th {\n",
       "        text-align: right;\n",
       "    }\n",
       "</style>\n",
       "<table border=\"1\" class=\"dataframe\">\n",
       "  <thead>\n",
       "    <tr style=\"text-align: right;\">\n",
       "      <th></th>\n",
       "      <th>column_name</th>\n",
       "      <th>column_type</th>\n",
       "      <th>unique_values</th>\n",
       "      <th>duplicate_values</th>\n",
       "      <th>null_values</th>\n",
       "      <th>non_null_values</th>\n",
       "      <th>percent_null</th>\n",
       "    </tr>\n",
       "  </thead>\n",
       "  <tbody>\n",
       "    <tr>\n",
       "      <th>0</th>\n",
       "      <td>arrest_key</td>\n",
       "      <td>object</td>\n",
       "      <td>155507</td>\n",
       "      <td>0</td>\n",
       "      <td>0</td>\n",
       "      <td>155507</td>\n",
       "      <td>0.000</td>\n",
       "    </tr>\n",
       "    <tr>\n",
       "      <th>16</th>\n",
       "      <td>latitude</td>\n",
       "      <td>object</td>\n",
       "      <td>34210</td>\n",
       "      <td>121297</td>\n",
       "      <td>0</td>\n",
       "      <td>155507</td>\n",
       "      <td>0.000</td>\n",
       "    </tr>\n",
       "    <tr>\n",
       "      <th>17</th>\n",
       "      <td>longitude</td>\n",
       "      <td>object</td>\n",
       "      <td>34210</td>\n",
       "      <td>121297</td>\n",
       "      <td>0</td>\n",
       "      <td>155507</td>\n",
       "      <td>0.000</td>\n",
       "    </tr>\n",
       "    <tr>\n",
       "      <th>15</th>\n",
       "      <td>y_coord_cd</td>\n",
       "      <td>object</td>\n",
       "      <td>29300</td>\n",
       "      <td>126207</td>\n",
       "      <td>0</td>\n",
       "      <td>155507</td>\n",
       "      <td>0.000</td>\n",
       "    </tr>\n",
       "    <tr>\n",
       "      <th>14</th>\n",
       "      <td>x_coord_cd</td>\n",
       "      <td>object</td>\n",
       "      <td>27466</td>\n",
       "      <td>128041</td>\n",
       "      <td>0</td>\n",
       "      <td>155507</td>\n",
       "      <td>0.000</td>\n",
       "    </tr>\n",
       "    <tr>\n",
       "      <th>6</th>\n",
       "      <td>law_code</td>\n",
       "      <td>object</td>\n",
       "      <td>1005</td>\n",
       "      <td>154502</td>\n",
       "      <td>0</td>\n",
       "      <td>155507</td>\n",
       "      <td>0.000</td>\n",
       "    </tr>\n",
       "    <tr>\n",
       "      <th>1</th>\n",
       "      <td>arrest_date</td>\n",
       "      <td>object</td>\n",
       "      <td>365</td>\n",
       "      <td>155142</td>\n",
       "      <td>0</td>\n",
       "      <td>155507</td>\n",
       "      <td>0.000</td>\n",
       "    </tr>\n",
       "    <tr>\n",
       "      <th>2</th>\n",
       "      <td>pd_cd</td>\n",
       "      <td>object</td>\n",
       "      <td>261</td>\n",
       "      <td>155217</td>\n",
       "      <td>29</td>\n",
       "      <td>155478</td>\n",
       "      <td>0.000</td>\n",
       "    </tr>\n",
       "    <tr>\n",
       "      <th>3</th>\n",
       "      <td>pd_desc</td>\n",
       "      <td>object</td>\n",
       "      <td>242</td>\n",
       "      <td>155162</td>\n",
       "      <td>103</td>\n",
       "      <td>155404</td>\n",
       "      <td>0.001</td>\n",
       "    </tr>\n",
       "    <tr>\n",
       "      <th>9</th>\n",
       "      <td>arrest_precinct</td>\n",
       "      <td>object</td>\n",
       "      <td>77</td>\n",
       "      <td>155430</td>\n",
       "      <td>0</td>\n",
       "      <td>155507</td>\n",
       "      <td>0.000</td>\n",
       "    </tr>\n",
       "    <tr>\n",
       "      <th>4</th>\n",
       "      <td>ky_cd</td>\n",
       "      <td>object</td>\n",
       "      <td>67</td>\n",
       "      <td>155337</td>\n",
       "      <td>103</td>\n",
       "      <td>155404</td>\n",
       "      <td>0.001</td>\n",
       "    </tr>\n",
       "    <tr>\n",
       "      <th>5</th>\n",
       "      <td>ofns_desc</td>\n",
       "      <td>object</td>\n",
       "      <td>64</td>\n",
       "      <td>155340</td>\n",
       "      <td>103</td>\n",
       "      <td>155404</td>\n",
       "      <td>0.001</td>\n",
       "    </tr>\n",
       "    <tr>\n",
       "      <th>10</th>\n",
       "      <td>jurisdiction_code</td>\n",
       "      <td>object</td>\n",
       "      <td>26</td>\n",
       "      <td>155481</td>\n",
       "      <td>0</td>\n",
       "      <td>155507</td>\n",
       "      <td>0.000</td>\n",
       "    </tr>\n",
       "    <tr>\n",
       "      <th>13</th>\n",
       "      <td>perp_race</td>\n",
       "      <td>object</td>\n",
       "      <td>7</td>\n",
       "      <td>155500</td>\n",
       "      <td>0</td>\n",
       "      <td>155507</td>\n",
       "      <td>0.000</td>\n",
       "    </tr>\n",
       "    <tr>\n",
       "      <th>8</th>\n",
       "      <td>arrest_boro</td>\n",
       "      <td>object</td>\n",
       "      <td>5</td>\n",
       "      <td>155502</td>\n",
       "      <td>0</td>\n",
       "      <td>155507</td>\n",
       "      <td>0.000</td>\n",
       "    </tr>\n",
       "    <tr>\n",
       "      <th>11</th>\n",
       "      <td>age_group</td>\n",
       "      <td>object</td>\n",
       "      <td>5</td>\n",
       "      <td>155502</td>\n",
       "      <td>0</td>\n",
       "      <td>155507</td>\n",
       "      <td>0.000</td>\n",
       "    </tr>\n",
       "    <tr>\n",
       "      <th>7</th>\n",
       "      <td>law_cat_cd</td>\n",
       "      <td>object</td>\n",
       "      <td>5</td>\n",
       "      <td>154109</td>\n",
       "      <td>1393</td>\n",
       "      <td>154114</td>\n",
       "      <td>0.009</td>\n",
       "    </tr>\n",
       "    <tr>\n",
       "      <th>12</th>\n",
       "      <td>perp_sex</td>\n",
       "      <td>object</td>\n",
       "      <td>2</td>\n",
       "      <td>155505</td>\n",
       "      <td>0</td>\n",
       "      <td>155507</td>\n",
       "      <td>0.000</td>\n",
       "    </tr>\n",
       "    <tr>\n",
       "      <th>18</th>\n",
       "      <td>geocoded_column</td>\n",
       "      <td>object</td>\n",
       "      <td>NaN</td>\n",
       "      <td>NaN</td>\n",
       "      <td>NaN</td>\n",
       "      <td>NaN</td>\n",
       "      <td>NaN</td>\n",
       "    </tr>\n",
       "  </tbody>\n",
       "</table>\n",
       "</div>"
      ],
      "text/plain": [
       "          column_name column_type unique_values duplicate_values null_values  \\\n",
       "0          arrest_key      object        155507                0           0   \n",
       "16           latitude      object         34210           121297           0   \n",
       "17          longitude      object         34210           121297           0   \n",
       "15         y_coord_cd      object         29300           126207           0   \n",
       "14         x_coord_cd      object         27466           128041           0   \n",
       "6            law_code      object          1005           154502           0   \n",
       "1         arrest_date      object           365           155142           0   \n",
       "2               pd_cd      object           261           155217          29   \n",
       "3             pd_desc      object           242           155162         103   \n",
       "9     arrest_precinct      object            77           155430           0   \n",
       "4               ky_cd      object            67           155337         103   \n",
       "5           ofns_desc      object            64           155340         103   \n",
       "10  jurisdiction_code      object            26           155481           0   \n",
       "13          perp_race      object             7           155500           0   \n",
       "8         arrest_boro      object             5           155502           0   \n",
       "11          age_group      object             5           155502           0   \n",
       "7          law_cat_cd      object             5           154109        1393   \n",
       "12           perp_sex      object             2           155505           0   \n",
       "18    geocoded_column      object           NaN              NaN         NaN   \n",
       "\n",
       "   non_null_values  percent_null  \n",
       "0           155507         0.000  \n",
       "16          155507         0.000  \n",
       "17          155507         0.000  \n",
       "15          155507         0.000  \n",
       "14          155507         0.000  \n",
       "6           155507         0.000  \n",
       "1           155507         0.000  \n",
       "2           155478         0.000  \n",
       "3           155404         0.001  \n",
       "9           155507         0.000  \n",
       "4           155404         0.001  \n",
       "5           155404         0.001  \n",
       "10          155507         0.000  \n",
       "13          155507         0.000  \n",
       "8           155507         0.000  \n",
       "11          155507         0.000  \n",
       "7           154114         0.009  \n",
       "12          155507         0.000  \n",
       "18             NaN           NaN  "
      ]
     },
     "execution_count": 26,
     "metadata": {},
     "output_type": "execute_result"
    }
   ],
   "source": [
    "data_profiling_df"
   ]
  },
  {
   "cell_type": "markdown",
   "metadata": {},
   "source": [
    "### Step 3: Data Cleansing"
   ]
  },
  {
   "cell_type": "markdown",
   "metadata": {},
   "source": [
    "1. drop unneeded columns\n",
    "2. drop duplicate rows\n",
    "3. check for outliers"
   ]
  },
  {
   "cell_type": "code",
   "execution_count": 27,
   "metadata": {},
   "outputs": [
    {
     "name": "stdout",
     "output_type": "stream",
     "text": [
      "<class 'pandas.core.frame.DataFrame'>\n",
      "RangeIndex: 155507 entries, 0 to 155506\n",
      "Data columns (total 18 columns):\n",
      " #   Column             Non-Null Count   Dtype \n",
      "---  ------             --------------   ----- \n",
      " 0   arrest_key         155507 non-null  object\n",
      " 1   arrest_date        155507 non-null  object\n",
      " 2   pd_cd              155478 non-null  object\n",
      " 3   pd_desc            155404 non-null  object\n",
      " 4   ky_cd              155404 non-null  object\n",
      " 5   ofns_desc          155404 non-null  object\n",
      " 6   law_code           155507 non-null  object\n",
      " 7   law_cat_cd         154114 non-null  object\n",
      " 8   arrest_boro        155507 non-null  object\n",
      " 9   arrest_precinct    155507 non-null  object\n",
      " 10  jurisdiction_code  155507 non-null  object\n",
      " 11  age_group          155507 non-null  object\n",
      " 12  perp_sex           155507 non-null  object\n",
      " 13  perp_race          155507 non-null  object\n",
      " 14  x_coord_cd         155507 non-null  object\n",
      " 15  y_coord_cd         155507 non-null  object\n",
      " 16  latitude           155507 non-null  object\n",
      " 17  longitude          155507 non-null  object\n",
      "dtypes: object(18)\n",
      "memory usage: 21.4+ MB\n"
     ]
    }
   ],
   "source": [
    "data.info()"
   ]
  },
  {
   "cell_type": "code",
   "execution_count": 28,
   "metadata": {},
   "outputs": [
    {
     "data": {
      "text/plain": [
       "Index(['arrest_key', 'arrest_date', 'pd_cd', 'law_code', 'law_cat_cd',\n",
       "       'arrest_boro', 'arrest_precinct', 'jurisdiction_code', 'age_group',\n",
       "       'perp_sex', 'perp_race', 'latitude', 'longitude'],\n",
       "      dtype='object')"
      ]
     },
     "execution_count": 28,
     "metadata": {},
     "output_type": "execute_result"
    }
   ],
   "source": [
    "# drop unneeded columns\n",
    "\n",
    "drop_columns = [\"pd_desc\",\n",
    "               \"ky_cd\",\n",
    "               \"ofns_desc\",\n",
    "               \"x_coord_cd\",\n",
    "               \"y_coord_cd\"]\n",
    "\n",
    "for column in drop_columns:\n",
    "    try:\n",
    "        data.drop(column, axis = 1, inplace = True)\n",
    "    except:\n",
    "        print(f\"unable to drop {column}\")\n",
    "\n",
    "data.columns"
   ]
  },
  {
   "cell_type": "code",
   "execution_count": 29,
   "metadata": {},
   "outputs": [
    {
     "data": {
      "text/html": [
       "<div>\n",
       "<style scoped>\n",
       "    .dataframe tbody tr th:only-of-type {\n",
       "        vertical-align: middle;\n",
       "    }\n",
       "\n",
       "    .dataframe tbody tr th {\n",
       "        vertical-align: top;\n",
       "    }\n",
       "\n",
       "    .dataframe thead th {\n",
       "        text-align: right;\n",
       "    }\n",
       "</style>\n",
       "<table border=\"1\" class=\"dataframe\">\n",
       "  <thead>\n",
       "    <tr style=\"text-align: right;\">\n",
       "      <th></th>\n",
       "      <th>arrest_key</th>\n",
       "      <th>arrest_date</th>\n",
       "      <th>pd_cd</th>\n",
       "      <th>law_code</th>\n",
       "      <th>law_cat_cd</th>\n",
       "      <th>arrest_boro</th>\n",
       "      <th>arrest_precinct</th>\n",
       "      <th>jurisdiction_code</th>\n",
       "      <th>age_group</th>\n",
       "      <th>perp_sex</th>\n",
       "      <th>perp_race</th>\n",
       "      <th>latitude</th>\n",
       "      <th>longitude</th>\n",
       "    </tr>\n",
       "  </thead>\n",
       "  <tbody>\n",
       "  </tbody>\n",
       "</table>\n",
       "</div>"
      ],
      "text/plain": [
       "Empty DataFrame\n",
       "Columns: [arrest_key, arrest_date, pd_cd, law_code, law_cat_cd, arrest_boro, arrest_precinct, jurisdiction_code, age_group, perp_sex, perp_race, latitude, longitude]\n",
       "Index: []"
      ]
     },
     "execution_count": 29,
     "metadata": {},
     "output_type": "execute_result"
    }
   ],
   "source": [
    "data[data.duplicated()]"
   ]
  },
  {
   "cell_type": "code",
   "execution_count": 30,
   "metadata": {},
   "outputs": [
    {
     "name": "stdout",
     "output_type": "stream",
     "text": [
      "number of duplicate rows: 0\n"
     ]
    }
   ],
   "source": [
    "# find number of duplicate rows\n",
    "\n",
    "print(f\"number of duplicate rows: {len(data[data.duplicated()])}\")"
   ]
  },
  {
   "cell_type": "code",
   "execution_count": 31,
   "metadata": {},
   "outputs": [],
   "source": [
    "# drop duplicate rows\n",
    "\n",
    "## drop duplicates here\n",
    "\n",
    "## print new shape of data"
   ]
  },
  {
   "cell_type": "code",
   "execution_count": 32,
   "metadata": {},
   "outputs": [
    {
     "data": {
      "text/plain": [
       "0"
      ]
     },
     "execution_count": 32,
     "metadata": {},
     "output_type": "execute_result"
    }
   ],
   "source": [
    "len(data[data.duplicated()])"
   ]
  }
 ],
 "metadata": {
  "kernelspec": {
   "display_name": "Python 3",
   "language": "python",
   "name": "python3"
  },
  "language_info": {
   "codemirror_mode": {
    "name": "ipython",
    "version": 3
   },
   "file_extension": ".py",
   "mimetype": "text/x-python",
   "name": "python",
   "nbconvert_exporter": "python",
   "pygments_lexer": "ipython3",
   "version": "3.8.8"
  }
 },
 "nbformat": 4,
 "nbformat_minor": 2
}
